{
 "cells": [
  {
   "cell_type": "code",
   "execution_count": 1,
   "id": "e1a697f8-ee9e-4a6f-a8ef-66d5010c5e48",
   "metadata": {},
   "outputs": [
    {
     "name": "stdout",
     "output_type": "stream",
     "text": [
      "This is inside the if block\n",
      "This is outside the if block\n"
     ]
    }
   ],
   "source": [
    "# Correct Indentation\n",
    "if True:\n",
    "    print(\"This is inside the if block\")\n",
    "print(\"This is outside the if block\")\n",
    "\n",
    "# Incorrect Indentation (will raise IndentationError)\n",
    "# if True:\n",
    "# print(\"This line is incorrectly indented\")"
   ]
  },
  {
   "cell_type": "code",
   "execution_count": 3,
   "id": "a184abf2-f035-442d-8521-8833c67d0a27",
   "metadata": {},
   "outputs": [
    {
     "data": {
      "text/plain": [
       "'\\nThis is a multi-line\\ncomment (technically a string literal,\\nbut often used this way).\\n'"
      ]
     },
     "execution_count": 3,
     "metadata": {},
     "output_type": "execute_result"
    }
   ],
   "source": [
    "\"\"\"\n",
    "This is a multi-line\n",
    "comment (technically a string literal,\n",
    "but often used this way).\n",
    "\"\"\""
   ]
  },
  {
   "cell_type": "code",
   "execution_count": 5,
   "id": "53eb31f2-8d16-48f5-9e88-bfe4a691b5ac",
   "metadata": {},
   "outputs": [],
   "source": [
    "student_name = \"Alice\"\n",
    "age = 25\n",
    "course_fee = 499.99\n",
    "is_enrolled = True"
   ]
  },
  {
   "cell_type": "code",
   "execution_count": 7,
   "id": "1e9db599-4da1-4017-a59f-5ac2fb13247f",
   "metadata": {},
   "outputs": [
    {
     "name": "stdout",
     "output_type": "stream",
     "text": [
      "<class 'int'>\n",
      "<class 'str'>\n"
     ]
    }
   ],
   "source": [
    "my_variable = 10\n",
    "print(type(my_variable)) # Output: <class 'int'>\n",
    "\n",
    "my_variable = \"Now I'm a string\"\n",
    "print(type(my_variable)) # Output: <class 'str'>"
   ]
  },
  {
   "cell_type": "code",
   "execution_count": 9,
   "id": "21cd350b-3295-4861-840c-1764e37ecfea",
   "metadata": {},
   "outputs": [
    {
     "name": "stdout",
     "output_type": "stream",
     "text": [
      "<class 'int'>\n",
      "<class 'float'>\n",
      "<class 'str'>\n",
      "<class 'bool'>\n"
     ]
    }
   ],
   "source": [
    "print(type(100))      # Output: <class 'int'>\n",
    "print(type(3.14159))  # Output: <class 'float'>\n",
    "print(type(\"Crypto!\")) # Output: <class 'str'>\n",
    "print(type(False))     # Output: <class 'bool'>"
   ]
  },
  {
   "cell_type": "code",
   "execution_count": 11,
   "id": "a665541e-784b-443e-a4dd-25afafede001",
   "metadata": {},
   "outputs": [
    {
     "name": "stdout",
     "output_type": "stream",
     "text": [
      "15 / 4 = 3.75\n",
      "15 // 4 = 3\n",
      "15 % 4 = 3\n",
      "2 ** 4 = 16\n"
     ]
    }
   ],
   "source": [
    "a = 15\n",
    "b = 4\n",
    "print(f\"{a} / {b} = {a / b}\")   # Output: 15 / 4 = 3.75\n",
    "print(f\"{a} // {b} = {a // b}\") # Output: 15 // 4 = 3\n",
    "print(f\"{a} % {b} = {a % b}\")   # Output: 15 % 4 = 3\n",
    "print(f\"2 ** 4 = {2 ** 4}\")     # Output: 2 ** 4 = 16"
   ]
  },
  {
   "cell_type": "code",
   "execution_count": 13,
   "id": "d8a06233-2a9e-478e-840b-9e569bce4d04",
   "metadata": {},
   "outputs": [
    {
     "name": "stdout",
     "output_type": "stream",
     "text": [
      "10 > 5 is True\n",
      "10 == 10 is True\n",
      "'apple' != 'orange' is True\n"
     ]
    }
   ],
   "source": [
    "x = 10\n",
    "y = 5\n",
    "print(f\"{x} > {y} is {x > y}\")     # Output: 10 > 5 is True\n",
    "print(f\"{x} == {y*2} is {x == y*2}\") # Output: 10 == 10 is True\n",
    "print(f\"'apple' != 'orange' is {'apple' != 'orange'}\") # Output: 'apple' != 'orange' is True"
   ]
  },
  {
   "cell_type": "code",
   "execution_count": 15,
   "id": "e6d98c04-7b4b-4196-89d0-9ef2f5a6cb05",
   "metadata": {},
   "outputs": [
    {
     "name": "stdout",
     "output_type": "stream",
     "text": [
      "Has BTC and ETH? False\n",
      "Has BTC or ETH? True\n",
      "Doesn't have ETH? True\n"
     ]
    }
   ],
   "source": [
    "has_btc = True\n",
    "has_eth = False\n",
    "print(f\"Has BTC and ETH? {has_btc and has_eth}\") # Output: Has BTC and ETH? False\n",
    "print(f\"Has BTC or ETH? {has_btc or has_eth}\")  # Output: Has BTC or ETH? True\n",
    "print(f\"Doesn't have ETH? {not has_eth}\")       # Output: Doesn't have ETH? True"
   ]
  },
  {
   "cell_type": "code",
   "execution_count": 17,
   "id": "879f4923-3b11-491a-8966-0eb495347280",
   "metadata": {},
   "outputs": [
    {
     "name": "stdout",
     "output_type": "stream",
     "text": [
      "Counter: 1\n",
      "Discounted Price: 90.0\n"
     ]
    }
   ],
   "source": [
    "counter = 0\n",
    "counter += 1  # Equivalent to counter = counter + 1\n",
    "print(f\"Counter: {counter}\") # Output: Counter: 1\n",
    "\n",
    "price = 100\n",
    "price *= 0.9 # Apply 10% discount\n",
    "print(f\"Discounted Price: {price}\") # Output: Discounted Price: 90.0"
   ]
  },
  {
   "cell_type": "code",
   "execution_count": 19,
   "id": "a831a45f-3697-42fd-9931-4a7a9120b6f1",
   "metadata": {},
   "outputs": [
    {
     "name": "stdout",
     "output_type": "stream",
     "text": [
      "11\n",
      "21\n"
     ]
    }
   ],
   "source": [
    "result = 5 + 2 * 3   # Multiplication first: 5 + 6 = 11\n",
    "print(result)\n",
    "result = (5 + 2) * 3 # Parentheses first: 7 * 3 = 21\n",
    "print(result)"
   ]
  },
  {
   "cell_type": "code",
   "execution_count": 23,
   "id": "a5cebe2b-023b-48d3-9063-627762842018",
   "metadata": {},
   "outputs": [
    {
     "name": "stdout",
     "output_type": "stream",
     "text": [
      "Hello, Satoshi!\n"
     ]
    }
   ],
   "source": [
    "greeting = \"Hello\"\n",
    "name = \"Satoshi\"\n",
    "message = greeting + \", \" + name + \"!\"\n",
    "print(message)"
   ]
  },
  {
   "cell_type": "code",
   "execution_count": 27,
   "id": "00955898-a78f-4bf2-a7f6-079595f4aad2",
   "metadata": {},
   "outputs": [
    {
     "name": "stdout",
     "output_type": "stream",
     "text": [
      "The current price of Bitcoin is $65000.50\n"
     ]
    }
   ],
   "source": [
    "asset = \"Bitcoin\"\n",
    "current_price = 65000.50\n",
    "info = f\"The current price of {asset} is ${current_price:.2f}\"\n",
    "print(info)"
   ]
  },
  {
   "cell_type": "code",
   "execution_count": 39,
   "id": "921bd0ca-a7c4-41d6-8ec3-e1dee4f02d59",
   "metadata": {},
   "outputs": [
    {
     "name": "stdout",
     "output_type": "stream",
     "text": [
      "No conditions met\n",
      "This line executes regardless of the conditions above\n"
     ]
    }
   ],
   "source": [
    "condition1 = False\n",
    "condition2 = False\n",
    "condition3 = True\n",
    "\n",
    "if condition1:\n",
    "    # Code to execute if condition1 is True\n",
    "    print(\"Condition 1 met\")\n",
    "elif condition2: # Optional: 'else if' - checked only if condition1 is False\n",
    "    # Code to execute if condition1 is False and condition2 is True\n",
    "    print(\"Condition 1 failed, Condition 2 met\")\n",
    "elif condition3: # Optional: Can have multiple elif blocks\n",
    "    # Code to execute if conditions 1 and 2 are False, and condition3 is True\n",
    "    print(\"Conditions 1 & 2 failed, Condition 3 met\")\n",
    "else: # Optional: Executed if ALL preceding if/elif conditions are False\n",
    "    # Code to execute if none of the above conditions are True\n",
    "    print(\"No conditions met\")\n",
    "\n",
    "print(\"This line executes regardless of the conditions above\") # Back to main "
   ]
  },
  {
   "cell_type": "code",
   "execution_count": 41,
   "id": "3a3dd37c-a41b-40c1-931f-2fc76ea650b8",
   "metadata": {},
   "outputs": [
    {
     "name": "stdout",
     "output_type": "stream",
     "text": [
      "Moderate portfolio.\n"
     ]
    }
   ],
   "source": [
    "portfolio_value = 15000\n",
    "risk_tolerance = \"medium\"\n",
    "\n",
    "if portfolio_value > 100000:\n",
    "    print(\"Large portfolio detected. Consider diversification.\")\n",
    "elif portfolio_value > 10000 and risk_tolerance == \"high\":\n",
    "    print(\"Moderate portfolio, high risk. Monitor closely.\")\n",
    "elif portfolio_value > 10000:\n",
    "    print(\"Moderate portfolio.\")\n",
    "else:\n",
    "    print(\"Small portfolio. Focus on growth strategies.\")"
   ]
  },
  {
   "cell_type": "code",
   "execution_count": 53,
   "id": "6a9d3386-3549-48b3-936f-bc1b15ac433f",
   "metadata": {},
   "outputs": [
    {
     "name": "stdout",
     "output_type": "stream",
     "text": [
      "Cryptocurrency: Solana\n",
      "Current Price: $155.75\n",
      "Quantity Owned: 10\n",
      "Total Value: $1557.5\n"
     ]
    }
   ],
   "source": [
    "#Question 1: Create variables to store the name of a cryptocurrency (string), its current price (float), and the quantity you own (integer). Print these variables.\n",
    "\n",
    "# Answer 1:\n",
    "crypto_name = \"Solana\"\n",
    "current_price = 155.75\n",
    "quantity_owned = 10\n",
    "\n",
    "print(f\"Cryptocurrency: {crypto_name}\")\n",
    "print(f\"Current Price: ${current_price}\")\n",
    "print(f\"Quantity Owned: {quantity_owned}\")\n",
    "print(f\"Total Value: ${current_price * quantity_owned}\") # Bonus calculation"
   ]
  },
  {
   "cell_type": "code",
   "execution_count": 61,
   "id": "d465f96b-43e4-4c5a-b1bf-150b17bcca70",
   "metadata": {},
   "outputs": [
    {
     "name": "stdout",
     "output_type": "stream",
     "text": [
      "The precentage increase is : 44.44%\n"
     ]
    }
   ],
   "source": [
    "#Question 2: You bought Bitcoin at $45,000 and it's now $65,000. Calculate the percentage increase and store it in a variable. Print the percentage increase formatted to two decimal places.\n",
    "\n",
    "buy_price = 45000.0\n",
    "sell_price = 65000.0\n",
    "\n",
    "increase = sell_price - buy_price\n",
    "percentage_increase = (increase/buy_price)*100\n",
    "\n",
    "print(f\"The precentage increase is : {percentage_increase:.2f}%\")"
   ]
  },
  {
   "cell_type": "code",
   "execution_count": 63,
   "id": "42bbb079-02e8-43b0-806b-b53e0cd785ff",
   "metadata": {},
   "outputs": [
    {
     "name": "stdout",
     "output_type": "stream",
     "text": [
      "Type of crypto_name: <class 'str'>\n",
      "Type of current_price: <class 'float'>\n",
      "Type of quantity_owned: <class 'int'>\n"
     ]
    }
   ],
   "source": [
    "#Question 3: Check the data types of the variables crypto_name, current_price, and quantity_owned from Question 1 using the type() function.\n",
    "\n",
    "# Answer 3:\n",
    "crypto_name = \"Solana\"\n",
    "current_price = 155.75\n",
    "quantity_owned = 10\n",
    "\n",
    "print(f\"Type of crypto_name: {type(crypto_name)}\")\n",
    "print(f\"Type of current_price: {type(current_price)}\")\n",
    "print(f\"Type of quantity_owned: {type(quantity_owned)}\")\n",
    "# Expected Output:\n",
    "# Type of crypto_name: <class 'str'>\n",
    "# Type of current_price: <class 'float'>\n",
    "# Type of quantity_owned: <class 'int'>"
   ]
  },
  {
   "cell_type": "code",
   "execution_count": 65,
   "id": "4498fdac-583a-482a-b87b-480e345724ee",
   "metadata": {},
   "outputs": [
    {
     "name": "stdout",
     "output_type": "stream",
     "text": [
      "Floor division of 123 // 15 = 8\n",
      "Remainder of 123 % 15 = 3\n"
     ]
    }
   ],
   "source": [
    "#Question 4: Calculate the floor division and the remainder when dividing 123 by 15.\n",
    "\n",
    "# Answer 4:\n",
    "dividend = 123\n",
    "divisor = 15\n",
    "\n",
    "floor_result = dividend // divisor\n",
    "remainder_result = dividend % divisor\n",
    "\n",
    "print(f\"Floor division of {dividend} // {divisor} = {floor_result}\")\n",
    "print(f\"Remainder of {dividend} % {divisor} = {remainder_result}\")"
   ]
  },
  {
   "cell_type": "code",
   "execution_count": 67,
   "id": "14e80420-48d9-46eb-9010-5d86c00d29cf",
   "metadata": {},
   "outputs": [
    {
     "name": "stdout",
     "output_type": "stream",
     "text": [
      "is_profitable and is_volatile: True\n",
      "is_profitable or is_volatile: True\n",
      "not is_profitable: False\n"
     ]
    }
   ],
   "source": [
    "#Question 5: Create two boolean variables, is_profitable (set to True) and is_volatile (set to True). Evaluate and print the results of is_profitable and is_volatile, is_profitable or is_volatile, and not is_profitable.\n",
    "\n",
    "# Answer 5:\n",
    "is_profitable = True\n",
    "is_volatile = True\n",
    "\n",
    "print(f\"is_profitable and is_volatile: {is_profitable and is_volatile}\")\n",
    "print(f\"is_profitable or is_volatile: {is_profitable or is_volatile}\")\n",
    "print(f\"not is_profitable: {not is_profitable}\")\n",
    "\n"
   ]
  },
  {
   "cell_type": "code",
   "execution_count": 69,
   "id": "6ae20557-e72b-4600-bb1d-cc2afdece5ab",
   "metadata": {},
   "outputs": [
    {
     "name": "stdout",
     "output_type": "stream",
     "text": [
      "Buy Amount: $5000.00\n",
      "Fee Amount (at 0.1%): $5.00\n",
      "Total Cost: $5005.00\n",
      "Remaining Balance: $4995.00\n"
     ]
    }
   ],
   "source": [
    "#Question 6: A trading fee is 0.1%. If you buy $5000 worth of Ethereum, calculate the fee amount and the total cost. Use compound assignment operators where appropriate if you were adjusting a balance.\n",
    "\n",
    "buy_amount = 5000.0\n",
    "fee_percentage = 0.1\n",
    "\n",
    "# fee_rate = 0.001 # As a decimal\n",
    "\n",
    "fee_amount = buy_amount * (fee_percentage/100) \n",
    "# or fee_amount = buy_amount * fee_rate\n",
    "\n",
    "total_cost = buy_amount + fee_amount\n",
    "\n",
    "print(f\"Buy Amount: ${buy_amount:.2f}\")\n",
    "print(f\"Fee Amount (at {fee_percentage}%): ${fee_amount:.2f}\")\n",
    "print(f\"Total Cost: ${total_cost:.2f}\")\n",
    "\n",
    "# Using compound assignment (if adjusting a cash balance)\n",
    "cash_balance = 10000.0\n",
    "cash_balance -= total_cost\n",
    "print(f\"Remaining Balance: ${cash_balance:.2f}\")\n"
   ]
  },
  {
   "cell_type": "code",
   "execution_count": 71,
   "id": "9420437e-2c06-40ad-bfab-52ff0a38ff47",
   "metadata": {},
   "outputs": [
    {
     "name": "stdout",
     "output_type": "stream",
     "text": [
      "Now analyzing Cardano.\n"
     ]
    }
   ],
   "source": [
    "#Question 7: Create a variable asset_name with the value \"Cardano\". Create another variable message using an f-string that says \"Now analyzing Cardano.\" Print the message.\n",
    "\n",
    "asset_name = \"Cardano\"\n",
    "message = f\"Now analyzing {asset_name}.\"\n",
    "\n",
    "print(message)"
   ]
  },
  {
   "cell_type": "code",
   "execution_count": 73,
   "id": "e36e941b-8de3-4d11-b207-3c9067e687bb",
   "metadata": {},
   "outputs": [
    {
     "name": "stdout",
     "output_type": "stream",
     "text": [
      "Above target price\n"
     ]
    }
   ],
   "source": [
    "#Question 8: Write an if-else statement that checks if a variable btc_price is greater than $60,000. If it is, print \"Above target price\". Otherwise, print \"Below target price\". Test it with btc_price = 65000.\n",
    "\n",
    "btc_price = 65000 # Adjust value\n",
    "\n",
    "if btc_price > 60000:\n",
    "    print(\"Above target price\")\n",
    "else:\n",
    "    print(\"Below target price\")"
   ]
  },
  {
   "cell_type": "code",
   "execution_count": 81,
   "id": "a896b66d-272d-478f-81b0-6d1352786d97",
   "metadata": {},
   "outputs": [
    {
     "name": "stdout",
     "output_type": "stream",
     "text": [
      "Testing risk score: 80\n",
      "Result: High Risk\n",
      "-------------------------\n",
      "Testing risk score: 55\n",
      "Result: Medium Risk\n",
      "-------------------------\n",
      "Testing risk score: 30\n",
      "Result: Low Risk\n",
      "-------------------------\n"
     ]
    }
   ],
   "source": [
    "#Question 9: Write an if-elif-else statement based on a risk_score (integer).\n",
    "\n",
    "# Answer 9:\n",
    "def evaluate_risk(risk_score):\n",
    "  print(f\"Testing risk score: {risk_score}\")\n",
    "  if risk_score > 75:\n",
    "      print(\"Result: High Risk\")\n",
    "  elif risk_score > 40:\n",
    "      print(\"Result: Medium Risk\")\n",
    "  else:\n",
    "      print(\"Result: Low Risk\")\n",
    "  print(\"-\" * 25) # Separator\n",
    "\n",
    "evaluate_risk(80)\n",
    "evaluate_risk(55)\n",
    "evaluate_risk(30)\n"
   ]
  },
  {
   "cell_type": "code",
   "execution_count": 89,
   "id": "56299db0-8eaa-470a-bd78-1dc676fc8646",
   "metadata": {},
   "outputs": [
    {
     "name": "stdout",
     "output_type": "stream",
     "text": [
      "Holding Period: 14 months\n",
      "Profit: 25%\n",
      "Consider selling for long-term gains\n",
      "\n",
      "Testing with Holding Period: 10 months\n",
      "Profit: 25%\n",
      "Conditions not met for long-term gain consideration.\n"
     ]
    }
   ],
   "source": [
    "#Question 10: You have two variables: holding_period_months = 14 and profit_percentage = 25. Write an if statement that prints \"Consider selling for long-term gains\" ONLY IF the holding period is greater than 12 months AND the profit percentage is greater than 20%.\n",
    "\n",
    "holding_period_months = 14\n",
    "profit_percentage = 25\n",
    "\n",
    "print(f\"Holding Period: {holding_period_months} months\")\n",
    "print(f\"Profit: {profit_percentage}%\")\n",
    "\n",
    "if holding_period_months > 12 and profit_percentage > 20:\n",
    "    print(\"Consider selling for long-term gains\")\n",
    "\n",
    "\n",
    "# Test case where condition is false\n",
    "holding_period_months = 10\n",
    "profit_percentage = 25\n",
    "print(f\"\\nTesting with Holding Period: {holding_period_months} months\")\n",
    "print(f\"Profit: {profit_percentage}%\")\n",
    "if holding_period_months > 12 and profit_percentage > 20:\n",
    "    print(\"Consider selling for long-term gains\")\n",
    "else:\n",
    "    print(\"Conditions not met for long-term gain consideration.\")\n"
   ]
  },
  {
   "cell_type": "code",
   "execution_count": null,
   "id": "ffd9b22f-5ebc-4f77-9904-37675ac937c3",
   "metadata": {},
   "outputs": [],
   "source": []
  }
 ],
 "metadata": {
  "kernelspec": {
   "display_name": "Python [conda env:base] *",
   "language": "python",
   "name": "conda-base-py"
  },
  "language_info": {
   "codemirror_mode": {
    "name": "ipython",
    "version": 3
   },
   "file_extension": ".py",
   "mimetype": "text/x-python",
   "name": "python",
   "nbconvert_exporter": "python",
   "pygments_lexer": "ipython3",
   "version": "3.12.7"
  }
 },
 "nbformat": 4,
 "nbformat_minor": 5
}
